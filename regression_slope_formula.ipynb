{
 "cells": [
  {
   "cell_type": "markdown",
   "metadata": {},
   "source": [
    "We have $n$ points ${(x_1, y_1), (x_2, y_2), ..., (x_n, x_n)}$; we want to use the ${x_1, x_2, ... x_n}$ values to predict their corresponding $y$ values ${y_1, y_2, ..., y_n}$.\n",
    "\n",
    "We want to do this using a straight line, with intercept $c$ and slope $b$, so our *predicted* values for $y$ will be ${c + bx_1, c + bx_2, ..., c + bx_n}$.\n",
    "\n",
    "The errors for our predictions are therefore ${y_1 - (c + bx_1), y_2 - (c + bx_2), ..., y_n - (c + bx_n)}$.\n",
    "\n",
    "We decide we have a good line when we have chosen $c$ and $b$ such that the sum of squares of the errors $SSE$ is minimimized:\n",
    "\n",
    "$$\n",
    "SSE = {y_1 - (c + bx_1) + y_2 - (c + bx_2) + ... + y_n - (c + bx_n)} \\\\\n",
    "= \\sum_{i=1}^n (y_i - (c + bx_i)^2\n",
    "$$"
   ]
  },
  {
   "cell_type": "markdown",
   "metadata": {},
   "source": [
    "The general procedure is to:\n",
    "\n",
    "* Differentiate the equation above with respect to $c$, to get a formula for $c$ that minimizes the error.\n",
    "* Substitute this formula back into the equation, to eliminate $c$, differentiate with respect to $b$, and solve for $b$."
   ]
  },
  {
   "cell_type": "code",
   "execution_count": 1,
   "metadata": {},
   "outputs": [],
   "source": [
    "# Sympy is Python's symbolic mathematics library.\n",
    "from sympy import (symbols, summation, diff, IndexedBase, Add, Eq,\n",
    "                   simplify, expand, solve)\n",
    "# Render Sympy equations nicely in the notebook\n",
    "from sympy.interactive import printing\n",
    "printing.init_printing()"
   ]
  },
  {
   "cell_type": "markdown",
   "metadata": {},
   "source": [
    "Build the equation for the sum of squared deviations."
   ]
  },
  {
   "cell_type": "code",
   "execution_count": 2,
   "metadata": {},
   "outputs": [],
   "source": [
    "# Symbols\n",
    "i, n, c, b = symbols('i, n, c, b', integer=True, positive=True)\n",
    "# The vector of observations to predict from.\n",
    "x = IndexedBase('x')\n",
    "# The vector of observations to predict.\n",
    "y = IndexedBase('y')"
   ]
  },
  {
   "cell_type": "code",
   "execution_count": 3,
   "metadata": {},
   "outputs": [
    {
     "data": {
      "image/png": "[encoded data removed]",
      "text/latex": [
       "$\\displaystyle \\sum_{i=1}^{n} \\left(- b {x}_{i} - c + {y}_{i}\\right)^{2}$"
      ],
      "text/plain": [
       "  n                        \n",
       " ___                       \n",
       " ╲                         \n",
       "  ╲                       2\n",
       "  ╱   (-b⋅x[i] - c + y[i]) \n",
       " ╱                         \n",
       " ‾‾‾                       \n",
       "i = 1                      "
      ]
     },
     "execution_count": 3,
     "metadata": {},
     "output_type": "execute_result"
    }
   ],
   "source": [
    "ss = summation((y[i] - (c + b * x[i]))**2, (i, 1, n))\n",
    "ss"
   ]
  },
  {
   "cell_type": "markdown",
   "metadata": {},
   "source": [
    "Expand and simplify the terms:"
   ]
  },
  {
   "cell_type": "code",
   "execution_count": 4,
   "metadata": {},
   "outputs": [],
   "source": [
    "def expand_simplify_ss(f):\n",
    "    ef = expand(f)\n",
    "    # Simplify terms\n",
    "    return Add(*[simplify(term).doit() for term in ef.args])"
   ]
  },
  {
   "cell_type": "code",
   "execution_count": 5,
   "metadata": {},
   "outputs": [
    {
     "data": {
      "image/png": "[encoded data removed]",
      "text/latex": [
       "$\\displaystyle b^{2} \\sum_{i=1}^{n} {x}_{i}^{2} + 2 b c \\sum_{i=1}^{n} {x}_{i} - 2 b \\sum_{i=1}^{n} {x}_{i} {y}_{i} + c^{2} n - 2 c \\sum_{i=1}^{n} {y}_{i} + \\sum_{i=1}^{n} {y}_{i}^{2}$"
      ],
      "text/plain": [
       "     n                   n                n                            n      \n",
       "    ___                 ___              ___                          ___     \n",
       "    ╲                   ╲                ╲                            ╲       \n",
       " 2   ╲       2           ╲                ╲                2           ╲      \n",
       "b ⋅  ╱   x[i]  + 2⋅b⋅c⋅  ╱   x[i] - 2⋅b⋅  ╱   x[i]⋅y[i] + c ⋅n - 2⋅c⋅  ╱   y[i\n",
       "    ╱                   ╱                ╱                            ╱       \n",
       "    ‾‾‾                 ‾‾‾              ‾‾‾                          ‾‾‾     \n",
       "   i = 1               i = 1            i = 1                        i = 1    \n",
       "\n",
       "      n        \n",
       "     ___       \n",
       "     ╲         \n",
       "      ╲       2\n",
       "] +   ╱   y[i] \n",
       "     ╱         \n",
       "     ‾‾‾       \n",
       "    i = 1      "
      ]
     },
     "execution_count": 5,
     "metadata": {},
     "output_type": "execute_result"
    }
   ],
   "source": [
    "simple_ss = expand_simplify_ss(ss)\n",
    "simple_ss"
   ]
  },
  {
   "cell_type": "markdown",
   "metadata": {},
   "source": [
    "Differentiate this equation with respect to $c$:"
   ]
  },
  {
   "cell_type": "code",
   "execution_count": 6,
   "metadata": {},
   "outputs": [
    {
     "data": {
      "image/png": "[encoded data removed]",
      "text/latex": [
       "$\\displaystyle 2 b \\sum_{i=1}^{n} {x}_{i} + 2 c n - 2 \\sum_{i=1}^{n} {y}_{i}$"
      ],
      "text/plain": [
       "      n                      n       \n",
       "     ___                    ___      \n",
       "     ╲                      ╲        \n",
       "      ╲                      ╲       \n",
       "2⋅b⋅  ╱   x[i] + 2⋅c⋅n - 2⋅  ╱   y[i]\n",
       "     ╱                      ╱        \n",
       "     ‾‾‾                    ‾‾‾      \n",
       "    i = 1                  i = 1     "
      ]
     },
     "execution_count": 6,
     "metadata": {},
     "output_type": "execute_result"
    }
   ],
   "source": [
    "dSSE_dc = diff(simple_ss, c)\n",
    "dSSE_dc"
   ]
  },
  {
   "cell_type": "markdown",
   "metadata": {},
   "source": [
    "We find the minimum by setting equal to 0, and solving for $c$. "
   ]
  },
  {
   "cell_type": "code",
   "execution_count": 7,
   "metadata": {},
   "outputs": [
    {
     "data": {
      "image/png": "[encoded data removed]",
      "text/latex": [
       "$\\displaystyle - \\frac{b \\sum_{i=1}^{n} {x}_{i}}{n} + \\frac{\\sum_{i=1}^{n} {y}_{i}}{n}$"
      ],
      "text/plain": [
       "      n            n       \n",
       "     ___          ___      \n",
       "     ╲            ╲        \n",
       "      ╲            ╲       \n",
       "  b⋅  ╱   x[i]     ╱   y[i]\n",
       "     ╱            ╱        \n",
       "     ‾‾‾          ‾‾‾      \n",
       "    i = 1        i = 1     \n",
       "- ──────────── + ──────────\n",
       "       n             n     "
      ]
     },
     "execution_count": 7,
     "metadata": {},
     "output_type": "execute_result"
    }
   ],
   "source": [
    "# Set derivative to 0, solve for c\n",
    "solutions = solve(Eq(dSSE_dc, 0), c)\n",
    "assert len(solutions) == 1\n",
    "min_c = expand_simplify_ss(solutions[0])\n",
    "min_c"
   ]
  },
  {
   "cell_type": "markdown",
   "metadata": {},
   "source": [
    "This is the formula for $c$ that minimizes sum of squared error.  Notice it is the mean of $y$ minus the slope times the mean of $x$."
   ]
  },
  {
   "cell_type": "markdown",
   "metadata": {},
   "source": [
    "Substitute back into the full SSE formula to eliminate $c$ as a term."
   ]
  },
  {
   "cell_type": "code",
   "execution_count": 8,
   "metadata": {},
   "outputs": [
    {
     "data": {
      "image/png": "[encoded data removed]",
      "text/latex": [
       "$\\displaystyle b^{2} \\sum_{i=1}^{n} {x}_{i}^{2} - \\frac{b^{2} \\left(\\sum_{i=1}^{n} {x}_{i}\\right)^{2}}{n} - 2 b \\sum_{i=1}^{n} {x}_{i} {y}_{i} + \\frac{2 b \\left(\\sum_{i=1}^{n} {x}_{i}\\right) \\sum_{i=1}^{n} {y}_{i}}{n} + \\sum_{i=1}^{n} {y}_{i}^{2} - \\frac{\\left(\\sum_{i=1}^{n} {y}_{i}\\right)^{2}}{n}$"
      ],
      "text/plain": [
       "                                2                                             \n",
       "                    ⎛  n       ⎞                              ⎛  n       ⎞   n\n",
       "                    ⎜ ___      ⎟                              ⎜ ___      ⎟  __\n",
       "                    ⎜ ╲        ⎟                              ⎜ ╲        ⎟  ╲ \n",
       "                  2 ⎜  ╲       ⎟                              ⎜  ╲       ⎟   ╲\n",
       "     n           b ⋅⎜  ╱   x[i]⎟          n               2⋅b⋅⎜  ╱   x[i]⎟⋅  ╱\n",
       "    ___             ⎜ ╱        ⎟         ___                  ⎜ ╱        ⎟  ╱ \n",
       "    ╲               ⎜ ‾‾‾      ⎟         ╲                    ⎜ ‾‾‾      ⎟  ‾‾\n",
       " 2   ╲       2      ⎝i = 1     ⎠          ╲                   ⎝i = 1     ⎠ i =\n",
       "b ⋅  ╱   x[i]  - ──────────────── - 2⋅b⋅  ╱   x[i]⋅y[i] + ────────────────────\n",
       "    ╱                   n                ╱                             n      \n",
       "    ‾‾‾                                  ‾‾‾                                  \n",
       "   i = 1                                i = 1                                 \n",
       "\n",
       "                                    2\n",
       "                        ⎛  n       ⎞ \n",
       "_                       ⎜ ___      ⎟ \n",
       "                        ⎜ ╲        ⎟ \n",
       "                        ⎜  ╲       ⎟ \n",
       "   y[i]     n           ⎜  ╱   y[i]⎟ \n",
       "           ___          ⎜ ╱        ⎟ \n",
       "‾          ╲            ⎜ ‾‾‾      ⎟ \n",
       " 1          ╲       2   ⎝i = 1     ⎠ \n",
       "─────── +   ╱   y[i]  - ─────────────\n",
       "           ╱                  n      \n",
       "           ‾‾‾                       \n",
       "          i = 1                      "
      ]
     },
     "execution_count": 8,
     "metadata": {},
     "output_type": "execute_result"
    }
   ],
   "source": [
    "ss_min_c = expand_simplify_ss(simple_ss.subs(c, min_c))\n",
    "ss_min_c"
   ]
  },
  {
   "cell_type": "markdown",
   "metadata": {},
   "source": [
    "Differentiate with respect to $b$ to find the slope minimizing the sum of squared error:"
   ]
  },
  {
   "cell_type": "code",
   "execution_count": 9,
   "metadata": {},
   "outputs": [
    {
     "data": {
      "image/png": "[encoded data removed]",
      "text/latex": [
       "$\\displaystyle 2 b \\sum_{i=1}^{n} {x}_{i}^{2} - \\frac{2 b \\left(\\sum_{i=1}^{n} {x}_{i}\\right)^{2}}{n} - 2 \\sum_{i=1}^{n} {x}_{i} {y}_{i} + \\frac{2 \\left(\\sum_{i=1}^{n} {x}_{i}\\right) \\sum_{i=1}^{n} {y}_{i}}{n}$"
      ],
      "text/plain": [
       "                                  2                                           \n",
       "                      ⎛  n       ⎞                          ⎛  n       ⎞   n  \n",
       "                      ⎜ ___      ⎟                          ⎜ ___      ⎟  ___ \n",
       "                      ⎜ ╲        ⎟                          ⎜ ╲        ⎟  ╲   \n",
       "                      ⎜  ╲       ⎟                          ⎜  ╲       ⎟   ╲  \n",
       "      n           2⋅b⋅⎜  ╱   x[i]⎟        n               2⋅⎜  ╱   x[i]⎟⋅  ╱  \n",
       "     ___              ⎜ ╱        ⎟       ___                ⎜ ╱        ⎟  ╱   \n",
       "     ╲                ⎜ ‾‾‾      ⎟       ╲                  ⎜ ‾‾‾      ⎟  ‾‾‾ \n",
       "      ╲       2       ⎝i = 1     ⎠        ╲                 ⎝i = 1     ⎠ i = 1\n",
       "2⋅b⋅  ╱   x[i]  - ───────────────── - 2⋅  ╱   x[i]⋅y[i] + ────────────────────\n",
       "     ╱                    n              ╱                            n       \n",
       "     ‾‾‾                                 ‾‾‾                                  \n",
       "    i = 1                               i = 1                                 \n",
       "\n",
       "     \n",
       "     \n",
       "     \n",
       "     \n",
       "     \n",
       " y[i]\n",
       "     \n",
       "     \n",
       "     \n",
       "─────\n",
       "     \n",
       "     \n",
       "     "
      ]
     },
     "execution_count": 9,
     "metadata": {},
     "output_type": "execute_result"
    }
   ],
   "source": [
    "dSSE_min_c_db = diff(ss_min_c, b)\n",
    "dSSE_min_c_db"
   ]
  },
  {
   "cell_type": "code",
   "execution_count": 10,
   "metadata": {},
   "outputs": [
    {
     "data": {
      "image/png": "[encoded data removed]",
      "text/latex": [
       "$\\displaystyle \\frac{\\sum_{i=1}^{n} \\left(n {y}_{i} - \\sum_{i=1}^{n} {y}_{i}\\right) {x}_{i}}{n \\sum_{i=1}^{n} {x}_{i}^{2} - \\left(\\sum_{i=1}^{n} {x}_{i}\\right)^{2}}$"
      ],
      "text/plain": [
       "  n                              \n",
       "______                           \n",
       "╲                                \n",
       " ╲     ⎛           n       ⎞     \n",
       "  ╲    ⎜          ___      ⎟     \n",
       "   ╲   ⎜          ╲        ⎟     \n",
       "    ╲  ⎜           ╲       ⎟     \n",
       "    ╱  ⎜n⋅y[i] -   ╱   y[i]⎟⋅x[i]\n",
       "   ╱   ⎜          ╱        ⎟     \n",
       "  ╱    ⎜          ‾‾‾      ⎟     \n",
       " ╱     ⎝         i = 1     ⎠     \n",
       "╱                                \n",
       "‾‾‾‾‾‾                           \n",
       "i = 1                            \n",
       "─────────────────────────────────\n",
       "                              2  \n",
       "      n           ⎛  n       ⎞   \n",
       "     ___          ⎜ ___      ⎟   \n",
       "     ╲            ⎜ ╲        ⎟   \n",
       "      ╲       2   ⎜  ╲       ⎟   \n",
       "  n⋅  ╱   x[i]  - ⎜  ╱   x[i]⎟   \n",
       "     ╱            ⎜ ╱        ⎟   \n",
       "     ‾‾‾          ⎜ ‾‾‾      ⎟   \n",
       "    i = 1         ⎝i = 1     ⎠   "
      ]
     },
     "execution_count": 10,
     "metadata": {},
     "output_type": "execute_result"
    }
   ],
   "source": [
    "# Set derivative to 0, solve for b.\n",
    "solutions = solve(Eq(dSSE_min_c_db, 0), b)\n",
    "assert len(solutions) == 1\n",
    "min_b = expand_simplify_ss(solutions[0])\n",
    "min_b = simplify(min_b)\n",
    "min_b"
   ]
  },
  {
   "cell_type": "markdown",
   "metadata": {},
   "source": [
    "Notice we can also write this in terms of the mean-centered $x$ and $y$ vectors:"
   ]
  },
  {
   "cell_type": "code",
   "execution_count": 11,
   "metadata": {},
   "outputs": [
    {
     "data": {
      "image/png": "[encoded data removed]",
      "text/latex": [
       "$\\displaystyle \\frac{\\sum_{i=1}^{n} \\left({x}_{i} - \\frac{\\sum_{i=1}^{n} {x}_{i}}{n}\\right) \\left({y}_{i} - \\frac{\\sum_{i=1}^{n} {y}_{i}}{n}\\right)}{\\sum_{i=1}^{n} \\left({x}_{i} - \\frac{\\sum_{i=1}^{n} {x}_{i}}{n}\\right)^{2}}$"
      ],
      "text/plain": [
       "   n                                           \n",
       "_______                                        \n",
       "╲                                              \n",
       " ╲      ⎛         n       ⎞ ⎛         n       ⎞\n",
       "  ╲     ⎜        ___      ⎟ ⎜        ___      ⎟\n",
       "   ╲    ⎜        ╲        ⎟ ⎜        ╲        ⎟\n",
       "    ╲   ⎜         ╲       ⎟ ⎜         ╲       ⎟\n",
       "     ╲  ⎜         ╱   x[i]⎟ ⎜         ╱   y[i]⎟\n",
       "     ╱  ⎜        ╱        ⎟ ⎜        ╱        ⎟\n",
       "    ╱   ⎜        ‾‾‾      ⎟ ⎜        ‾‾‾      ⎟\n",
       "   ╱    ⎜       i = 1     ⎟ ⎜       i = 1     ⎟\n",
       "  ╱     ⎜x[i] - ──────────⎟⋅⎜y[i] - ──────────⎟\n",
       " ╱      ⎝           n     ⎠ ⎝           n     ⎠\n",
       "╱                                              \n",
       "‾‾‾‾‾‾‾                                        \n",
       " i = 1                                         \n",
       "───────────────────────────────────────────────\n",
       "            n                                  \n",
       "         ________                              \n",
       "         ╲                                     \n",
       "          ╲                                    \n",
       "           ╲                         2         \n",
       "            ╲     ⎛         n       ⎞          \n",
       "             ╲    ⎜        ___      ⎟          \n",
       "              ╲   ⎜        ╲        ⎟          \n",
       "               ╲  ⎜         ╲       ⎟          \n",
       "               ╱  ⎜         ╱   x[i]⎟          \n",
       "              ╱   ⎜        ╱        ⎟          \n",
       "             ╱    ⎜        ‾‾‾      ⎟          \n",
       "            ╱     ⎜       i = 1     ⎟          \n",
       "           ╱      ⎜x[i] - ──────────⎟          \n",
       "          ╱       ⎝           n     ⎠          \n",
       "         ╱                                     \n",
       "         ‾‾‾‾‾‾‾‾                              \n",
       "          i = 1                                "
      ]
     },
     "execution_count": 11,
     "metadata": {},
     "output_type": "execute_result"
    }
   ],
   "source": [
    "# Formula for the mean of x.\n",
    "y_bar = 1 / n * summation(y[i], (i, 1, n))\n",
    "# Formula for the mean of y.\n",
    "x_bar = 1 / n * summation(x[i], (i, 1, n))\n",
    "# Alternative formula for slope minimizing sum of squared error.\n",
    "other_f = summation((y[i] - y_bar) * (x[i] - x_bar), (i, 1, n)) / summation((x[i] - x_bar) ** 2, (i, 1, n))\n",
    "other_f"
   ]
  },
  {
   "cell_type": "markdown",
   "metadata": {},
   "source": [
    "The `min_b` formula and the `other_f` formula above are equivalent:"
   ]
  },
  {
   "cell_type": "code",
   "execution_count": 12,
   "metadata": {},
   "outputs": [
    {
     "data": {
      "image/png": "[encoded data removed]",
      "text/latex": [
       "$\\displaystyle 0$"
      ],
      "text/plain": [
       "0"
      ]
     },
     "execution_count": 12,
     "metadata": {},
     "output_type": "execute_result"
    }
   ],
   "source": [
    "simplify(expand_simplify_ss(min_b - other_f))"
   ]
  }
 ],
 "metadata": {
  "jupytext": {
   "split_at_heading": true
  },
  "kernelspec": {
   "display_name": "Python 3",
   "language": "python",
   "name": "python3"
  },
  "language_info": {
   "codemirror_mode": {
    "name": "ipython",
    "version": 3
   },
   "file_extension": ".py",
   "mimetype": "text/x-python",
   "name": "python",
   "nbconvert_exporter": "python",
   "pygments_lexer": "ipython3",
   "version": "3.7.6"
  }
 },
 "nbformat": 4,
 "nbformat_minor": 2
}
