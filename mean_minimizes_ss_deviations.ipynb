{
 "cells": [
  {
   "cell_type": "markdown",
   "metadata": {},
   "source": [
    "The mean $\\frac{1}{N} \\sum x_i$ is the value $\\mu$ such that $S$ is minimized, where $S = \\sum (x_i - \\mu)^2$"
   ]
  },
  {
   "cell_type": "markdown",
   "metadata": {},
   "source": [
    "The general procedure is to differentiate $\\sum (x_i - \\mu)^2$ with respect to $\\mu$, and find where this differentiation is 0, to get the minimum.   We find the minimum is where $\\mu = \\frac{1}{N} \\sum x_i$"
   ]
  },
  {
   "cell_type": "code",
   "execution_count": 1,
   "metadata": {},
   "outputs": [],
   "source": [
    "# Sympy is Python's symbolic mathematics library.\n",
    "from sympy import (symbols, Sum, diff, Eq, IndexedBase, Add,\n",
    "                   simplify, expand)\n",
    "# Render Sympy equations nicely in the notebook\n",
    "from sympy.interactive import printing\n",
    "printing.init_printing()"
   ]
  },
  {
   "cell_type": "markdown",
   "metadata": {},
   "source": [
    "Build the equation for the sum of squared deviations."
   ]
  },
  {
   "cell_type": "code",
   "execution_count": 2,
   "metadata": {},
   "outputs": [],
   "source": [
    "i, n, mu = symbols('i, n, mu')\n",
    "# The vector of observations\n",
    "x = IndexedBase('x')"
   ]
  },
  {
   "cell_type": "code",
   "execution_count": 3,
   "metadata": {},
   "outputs": [
    {
     "data": {
      "image/png": "[encoded data removed]",
      "text/latex": [
       "$$\\sum_{i=1}^{n} \\left(- \\mu + x_{i}\\right)^{2}$$"
      ],
      "text/plain": [
       "  n               \n",
       " ___              \n",
       " ╲                \n",
       "  ╲              2\n",
       "  ╱   (-μ + x[i]) \n",
       " ╱                \n",
       " ‾‾‾              \n",
       "i = 1             "
      ]
     },
     "execution_count": 3,
     "metadata": {},
     "output_type": "execute_result"
    }
   ],
   "source": [
    "ss = Sum((x[i] - mu)**2, (i, 1, n))\n",
    "ss"
   ]
  },
  {
   "cell_type": "markdown",
   "metadata": {},
   "source": [
    "Expand:"
   ]
  },
  {
   "cell_type": "code",
   "execution_count": 4,
   "metadata": {},
   "outputs": [
    {
     "data": {
      "image/png": "[encoded data removed]",
      "text/latex": [
       "$$\\sum_{i=1}^{n} \\mu^{2} + \\sum_{i=1}^{n} - 2 \\mu x_{i} + \\sum_{i=1}^{n} x_{i}^{2}$$"
      ],
      "text/plain": [
       "  n          n                 n        \n",
       " ___        ___               ___       \n",
       " ╲          ╲                 ╲         \n",
       "  ╲    2     ╲   -2⋅μ⋅x[i]     ╲       2\n",
       "  ╱   μ  +   ╱             +   ╱   x[i] \n",
       " ╱          ╱                 ╱         \n",
       " ‾‾‾        ‾‾‾               ‾‾‾       \n",
       "i = 1      i = 1             i = 1      "
      ]
     },
     "execution_count": 4,
     "metadata": {},
     "output_type": "execute_result"
    }
   ],
   "source": [
    "ess = expand(ss)\n",
    "ess"
   ]
  },
  {
   "cell_type": "markdown",
   "metadata": {},
   "source": [
    "Simplify the terms:"
   ]
  },
  {
   "cell_type": "code",
   "execution_count": 5,
   "metadata": {},
   "outputs": [
    {
     "data": {
      "image/png": "[encoded data removed]",
      "text/latex": [
       "$$\\mu^{2} \\sum_{i=1}^{n} 1 - 2 \\mu \\sum_{i=1}^{n} x_{i} + \\sum_{i=1}^{n} x_{i}^{2}$$"
      ],
      "text/plain": [
       "     n             n            n        \n",
       "    ___           ___          ___       \n",
       "    ╲             ╲            ╲         \n",
       " 2   ╲   1         ╲   x[i]     ╲       2\n",
       "μ ⋅  ╱     - 2⋅μ⋅  ╱        +   ╱   x[i] \n",
       "    ╱             ╱            ╱         \n",
       "    ‾‾‾           ‾‾‾          ‾‾‾       \n",
       "   i = 1         i = 1        i = 1      "
      ]
     },
     "execution_count": 5,
     "metadata": {},
     "output_type": "execute_result"
    }
   ],
   "source": [
    "simple_ess = Add(*[simplify(term) for term in ess.args])\n",
    "simple_ess"
   ]
  },
  {
   "cell_type": "markdown",
   "metadata": {},
   "source": [
    "Differentiate this equation with respect to $\\mu$:"
   ]
  },
  {
   "cell_type": "code",
   "execution_count": 6,
   "metadata": {},
   "outputs": [
    {
     "data": {
      "image/png": "[encoded data removed]",
      "text/latex": [
       "$$2 \\mu \\sum_{i=1}^{n} 1 - 2 \\sum_{i=1}^{n} x_{i}$$"
      ],
      "text/plain": [
       "      n           n       \n",
       "     ___         ___      \n",
       "     ╲           ╲        \n",
       "      ╲   1       ╲   x[i]\n",
       "2⋅μ⋅  ╱     - 2⋅  ╱       \n",
       "     ╱           ╱        \n",
       "     ‾‾‾         ‾‾‾      \n",
       "    i = 1       i = 1     "
      ]
     },
     "execution_count": 6,
     "metadata": {},
     "output_type": "execute_result"
    }
   ],
   "source": [
    "d = diff(simple_ess, mu)\n",
    "d"
   ]
  },
  {
   "cell_type": "markdown",
   "metadata": {},
   "source": [
    "We find the minimum by setting equal to 0.  The expression will be 0 when the left term equals the right term:"
   ]
  },
  {
   "cell_type": "code",
   "execution_count": 7,
   "metadata": {},
   "outputs": [
    {
     "data": {
      "image/png": "[encoded data removed]",
      "text/latex": [
       "$$2 \\mu \\sum_{i=1}^{n} 1 = 2 \\sum_{i=1}^{n} x_{i}$$"
      ],
      "text/plain": [
       "      n           n       \n",
       "     ___         ___      \n",
       "     ╲           ╲        \n",
       "      ╲   1       ╲   x[i]\n",
       "2⋅μ⋅  ╱     = 2⋅  ╱       \n",
       "     ╱           ╱        \n",
       "     ‾‾‾         ‾‾‾      \n",
       "    i = 1       i = 1     "
      ]
     },
     "execution_count": 7,
     "metadata": {},
     "output_type": "execute_result"
    }
   ],
   "source": [
    "minimized = Eq(d.args[1], -d.args[0])\n",
    "minimized"
   ]
  },
  {
   "cell_type": "markdown",
   "metadata": {},
   "source": [
    "Simplify a little:"
   ]
  },
  {
   "cell_type": "markdown",
   "metadata": {},
   "source": [
    "Divide left and right by 2.  Simplify the left to $n\\mu$.  Simplify the right to $\\sum_{i=1}^n x_i$.  Divide both sides by $n$. You get $\\mu = \\frac{1}{N} \\sum x_i$"
   ]
  }
 ],
 "metadata": {
  "jupytext": {
   "text_representation": {
    "extension": ".Rmd",
    "format_name": "rmarkdown",
    "format_version": "1.0",
    "jupytext_version": "0.8.1"
   }
  },
  "kernelspec": {
   "display_name": "Python 3",
   "language": "python",
   "name": "python3"
  },
  "language_info": {
   "codemirror_mode": {
    "name": "ipython",
    "version": 3
   },
   "file_extension": ".py",
   "mimetype": "text/x-python",
   "name": "python",
   "nbconvert_exporter": "python",
   "pygments_lexer": "ipython3",
   "version": "3.6.5"
  }
 },
 "nbformat": 4,
 "nbformat_minor": 2
}
