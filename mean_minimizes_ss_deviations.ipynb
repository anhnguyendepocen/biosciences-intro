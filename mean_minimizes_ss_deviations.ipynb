{
 "cells": [
  {
   "cell_type": "markdown",
   "metadata": {},
   "source": [
    "The mean $\\frac{1}{N} \\sum x_i$ is the value $\\mu$ such that $S$ is minimized, where $S = \\sum (x_i - \\mu)^2$"
   ]
  },
  {
   "cell_type": "markdown",
   "metadata": {},
   "source": [
    "The general procedure is to differentiate $\\sum (x_i - \\mu)^2$ with respect to $\\mu$, and find where this derivative is 0, to get the minimum.   We find the minimum is where $\\mu = \\frac{1}{N} \\sum x_i$"
   ]
  },
  {
   "cell_type": "code",
   "execution_count": 1,
   "metadata": {},
   "outputs": [],
   "source": [
    "# Sympy is Python's symbolic mathematics library.\n",
    "from sympy import (symbols, summation, diff, IndexedBase, Add, Eq,\n",
    "                   simplify, expand, solve)\n",
    "# Render Sympy equations nicely in the notebook\n",
    "from sympy.interactive import printing\n",
    "printing.init_printing()"
   ]
  },
  {
   "cell_type": "markdown",
   "metadata": {},
   "source": [
    "Build the equation for the sum of squared deviations."
   ]
  },
  {
   "cell_type": "code",
   "execution_count": 2,
   "metadata": {},
   "outputs": [],
   "source": [
    "# Symbols\n",
    "i, n = symbols('i, n', integer=True, positive=True)\n",
    "mu = symbols('mu')\n",
    "# The vector of observations\n",
    "x = IndexedBase('x')"
   ]
  },
  {
   "cell_type": "code",
   "execution_count": 3,
   "metadata": {},
   "outputs": [
    {
     "data": {
      "image/png": "[encoded data removed]",
      "text/latex": [
       "$$\\sum_{i=1}^{n} \\left(- \\mu + x_{i}\\right)^{2}$$"
      ],
      "text/plain": [
       "  n               \n",
       " ___              \n",
       " ╲                \n",
       "  ╲              2\n",
       "  ╱   (-μ + x[i]) \n",
       " ╱                \n",
       " ‾‾‾              \n",
       "i = 1             "
      ]
     },
     "execution_count": 3,
     "metadata": {},
     "output_type": "execute_result"
    }
   ],
   "source": [
    "ss = summation((x[i] - mu)**2, (i, 1, n))\n",
    "ss"
   ]
  },
  {
   "cell_type": "markdown",
   "metadata": {},
   "source": [
    "Expand:"
   ]
  },
  {
   "cell_type": "code",
   "execution_count": 4,
   "metadata": {},
   "outputs": [
    {
     "data": {
      "image/png": "[encoded data removed]",
      "text/latex": [
       "$$\\sum_{i=1}^{n} \\mu^{2} + \\sum_{i=1}^{n} - 2 \\mu x_{i} + \\sum_{i=1}^{n} x_{i}^{2}$$"
      ],
      "text/plain": [
       "  n          n                 n        \n",
       " ___        ___               ___       \n",
       " ╲          ╲                 ╲         \n",
       "  ╲    2     ╲   -2⋅μ⋅x[i]     ╲       2\n",
       "  ╱   μ  +   ╱             +   ╱   x[i] \n",
       " ╱          ╱                 ╱         \n",
       " ‾‾‾        ‾‾‾               ‾‾‾       \n",
       "i = 1      i = 1             i = 1      "
      ]
     },
     "execution_count": 4,
     "metadata": {},
     "output_type": "execute_result"
    }
   ],
   "source": [
    "ess = expand(ss)\n",
    "ess"
   ]
  },
  {
   "cell_type": "markdown",
   "metadata": {},
   "source": [
    "Simplify the terms:"
   ]
  },
  {
   "cell_type": "code",
   "execution_count": 5,
   "metadata": {},
   "outputs": [
    {
     "data": {
      "image/png": "[encoded data removed]",
      "text/latex": [
       "$$\\mu^{2} n - 2 \\mu \\sum_{i=1}^{n} x_{i} + \\sum_{i=1}^{n} x_{i}^{2}$$"
      ],
      "text/plain": [
       "             n            n        \n",
       "            ___          ___       \n",
       "            ╲            ╲         \n",
       " 2           ╲   x[i]     ╲       2\n",
       "μ ⋅n - 2⋅μ⋅  ╱        +   ╱   x[i] \n",
       "            ╱            ╱         \n",
       "            ‾‾‾          ‾‾‾       \n",
       "           i = 1        i = 1      "
      ]
     },
     "execution_count": 5,
     "metadata": {},
     "output_type": "execute_result"
    }
   ],
   "source": [
    "simple_ess = Add(*[simplify(term).doit() for term in ess.args])\n",
    "simple_ess"
   ]
  },
  {
   "cell_type": "markdown",
   "metadata": {},
   "source": [
    "Differentiate this equation with respect to $\\mu$:"
   ]
  },
  {
   "cell_type": "code",
   "execution_count": 6,
   "metadata": {},
   "outputs": [
    {
     "data": {
      "image/png": "[encoded data removed]",
      "text/latex": [
       "$$2 \\mu n - 2 \\sum_{i=1}^{n} x_{i}$$"
      ],
      "text/plain": [
       "            n       \n",
       "           ___      \n",
       "           ╲        \n",
       "            ╲   x[i]\n",
       "2⋅μ⋅n - 2⋅  ╱       \n",
       "           ╱        \n",
       "           ‾‾‾      \n",
       "          i = 1     "
      ]
     },
     "execution_count": 6,
     "metadata": {},
     "output_type": "execute_result"
    }
   ],
   "source": [
    "d = diff(simple_ess, mu)\n",
    "d"
   ]
  },
  {
   "cell_type": "markdown",
   "metadata": {},
   "source": [
    "We find the minimum by setting equal to 0, and solving for $\\mu$. "
   ]
  },
  {
   "cell_type": "code",
   "execution_count": 7,
   "metadata": {},
   "outputs": [
    {
     "data": {
      "image/png": "[encoded data removed]",
      "text/latex": [
       "$$2 \\mu n - 2 \\sum_{i=1}^{n} x_{i} = 0$$"
      ],
      "text/plain": [
       "            n           \n",
       "           ___          \n",
       "           ╲            \n",
       "            ╲   x[i]    \n",
       "2⋅μ⋅n - 2⋅  ╱        = 0\n",
       "           ╱            \n",
       "           ‾‾‾          \n",
       "          i = 1         "
      ]
     },
     "execution_count": 7,
     "metadata": {},
     "output_type": "execute_result"
    }
   ],
   "source": [
    "# Set derivative to 0\n",
    "to_solve = Eq(d, 0)\n",
    "to_solve"
   ]
  },
  {
   "cell_type": "markdown",
   "metadata": {},
   "source": [
    "Solve for $\\mu$, and we get the formula for the mean:"
   ]
  },
  {
   "cell_type": "code",
   "execution_count": 8,
   "metadata": {},
   "outputs": [
    {
     "data": {
      "image/png": "[encoded data removed]",
      "text/latex": [
       "$$\\left [ \\frac{\\sum_{i=1}^{n} x_{i}}{n}\\right ]$$"
      ],
      "text/plain": [
       "⎡  n       ⎤\n",
       "⎢ ___      ⎥\n",
       "⎢ ╲        ⎥\n",
       "⎢  ╲   x[i]⎥\n",
       "⎢  ╱       ⎥\n",
       "⎢ ╱        ⎥\n",
       "⎢ ‾‾‾      ⎥\n",
       "⎢i = 1     ⎥\n",
       "⎢──────────⎥\n",
       "⎣    n     ⎦"
      ]
     },
     "execution_count": 8,
     "metadata": {},
     "output_type": "execute_result"
    }
   ],
   "source": [
    "solve(to_solve, mu)"
   ]
  }
 ],
 "metadata": {
  "jupytext": {
   "text_representation": {
    "extension": ".Rmd",
    "format_name": "rmarkdown",
    "format_version": "1.0",
    "jupytext_version": "0.8.2"
   }
  },
  "kernelspec": {
   "display_name": "Python 3",
   "language": "python",
   "name": "python3"
  },
  "language_info": {
   "codemirror_mode": {
    "name": "ipython",
    "version": 3
   },
   "file_extension": ".py",
   "mimetype": "text/x-python",
   "name": "python",
   "nbconvert_exporter": "python",
   "pygments_lexer": "ipython3",
   "version": "3.6.5"
  }
 },
 "nbformat": 4,
 "nbformat_minor": 2
}
