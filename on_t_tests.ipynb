{
 "cells": [
  {
   "cell_type": "markdown",
   "metadata": {},
   "source": [
    "# On t-tests"
   ]
  },
  {
   "cell_type": "code",
   "execution_count": 6,
   "metadata": {},
   "outputs": [],
   "source": [
    "import numpy as np\n",
    "import matplotlib.pyplot as plt\n",
    "%matplotlib inline"
   ]
  },
  {
   "cell_type": "code",
   "execution_count": 12,
   "metadata": {},
   "outputs": [],
   "source": [
    "before = np.array([101.  ,  90.98, 100.71,  95.95, 100.93,  98.38,  92.65,  95.05,\n",
    "       101.82,  99.2 ,  88.12,  95.41,  99.57, 128.31, 115.3 , 116.27,\n",
    "       102.  , 106.18,  85.84, 101.75,  94.95,  95.9 ,  96.87,  94.52,\n",
    "       107.03,  94.47,  94.72, 116.62,  80.65, 103.56, 119.04, 102.53,\n",
    "       121.72,  98.15,  97.54,  80.87,  75.67,  97.17,  96.18,  86.32,\n",
    "       120.76,  91.51, 113.58,  90.23,  81.83, 108.4 ,  97.43, 107.13,\n",
    "       108.88, 107.66])"
   ]
  },
  {
   "cell_type": "code",
   "execution_count": 13,
   "metadata": {},
   "outputs": [],
   "source": [
    "after = np.array([101.72,  91.53,  99.24,  98.05, 102.06,  99.69,  94.75,  95.91,\n",
    "       102.1 ,  99.1 ,  88.91,  93.98,  98.99, 128.67, 115.9 , 115.85,\n",
    "       102.42, 106.13,  88.79, 103.36,  98.26,  97.36,  97.42,  95.21,\n",
    "       107.67,  94.94,  95.68, 119.16,  80.82, 105.91, 120.47, 104.25,\n",
    "       123.18,  98.9 ,  97.08,  83.88,  76.46,  97.35,  99.28,  87.32,\n",
    "       122.12,  93.85, 114.71,  90.77,  82.03, 109.07,  98.95, 107.75,\n",
    "       109.92, 107.54])"
   ]
  },
  {
   "cell_type": "code",
   "execution_count": 14,
   "metadata": {},
   "outputs": [
    {
     "data": {
      "image/png": "[encoded data removed]",
      "text/plain": [
       "<Figure size 432x288 with 1 Axes>"
      ]
     },
     "metadata": {
      "needs_background": "light"
     },
     "output_type": "display_data"
    }
   ],
   "source": [
    "plt.hist(before);"
   ]
  },
  {
   "cell_type": "code",
   "execution_count": 15,
   "metadata": {},
   "outputs": [
    {
     "data": {
      "image/png": "[encoded data removed]",
      "text/plain": [
       "<Figure size 432x288 with 1 Axes>"
      ]
     },
     "metadata": {
      "needs_background": "light"
     },
     "output_type": "display_data"
    }
   ],
   "source": [
    "plt.hist(after);"
   ]
  },
  {
   "cell_type": "code",
   "execution_count": 16,
   "metadata": {},
   "outputs": [
    {
     "data": {
      "text/plain": [
       "array([ 0.72,  0.55, -1.47,  2.1 ,  1.13,  1.31,  2.1 ,  0.86,  0.28,\n",
       "       -0.1 ,  0.79, -1.43, -0.58,  0.36,  0.6 , -0.42,  0.42, -0.05,\n",
       "        2.95,  1.61,  3.31,  1.46,  0.55,  0.69,  0.64,  0.47,  0.96,\n",
       "        2.54,  0.17,  2.35,  1.43,  1.72,  1.46,  0.75, -0.46,  3.01,\n",
       "        0.79,  0.18,  3.1 ,  1.  ,  1.36,  2.34,  1.13,  0.54,  0.2 ,\n",
       "        0.67,  1.52,  0.62,  1.04, -0.12])"
      ]
     },
     "execution_count": 16,
     "metadata": {},
     "output_type": "execute_result"
    }
   ],
   "source": [
    "difference = after - before\n",
    "difference"
   ]
  },
  {
   "cell_type": "code",
   "execution_count": 17,
   "metadata": {},
   "outputs": [
    {
     "data": {
      "image/png": "[encoded data removed]",
      "text/plain": [
       "<Figure size 432x288 with 1 Axes>"
      ]
     },
     "metadata": {
      "needs_background": "light"
     },
     "output_type": "display_data"
    }
   ],
   "source": [
    "plt.hist(difference);"
   ]
  }
 ],
 "metadata": {
  "jupytext": {
   "main_language": "python",
   "text_representation": {
    "extension": ".Rmd",
    "format_name": "rmarkdown",
    "format_version": "1.0",
    "jupytext_version": "0.8.4"
   }
  },
  "kernelspec": {
   "display_name": "Python 3",
   "language": "python",
   "name": "python3"
  },
  "language_info": {
   "codemirror_mode": {
    "name": "ipython",
    "version": 3
   },
   "file_extension": ".py",
   "mimetype": "text/x-python",
   "name": "python",
   "nbconvert_exporter": "python",
   "pygments_lexer": "ipython3",
   "version": "3.7.0"
  }
 },
 "nbformat": 4,
 "nbformat_minor": 2
}
