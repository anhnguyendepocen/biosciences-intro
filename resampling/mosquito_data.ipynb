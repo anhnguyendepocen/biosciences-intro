{
 "cells": [
  {
   "cell_type": "code",
   "execution_count": 1,
   "metadata": {},
   "outputs": [],
   "source": [
    "# Get symbolic mathematics routines \n",
    "from sympy import (Matrix, symbols, Eq, MatAdd, MatMul, ones,\n",
    "                    init_printing)\n",
    "# Set up output symbolic math expressions nicely\n",
    "init_printing(use_latex=True)\n",
    "import numpy as np"
   ]
  },
  {
   "cell_type": "code",
   "execution_count": 2,
   "metadata": {},
   "outputs": [],
   "source": [
    "beer_attract = np.array([27, 20, 21, 26, 27, 31, 24, 21, 20,\n",
    "                19, 23, 24, 28, 19, 24, 29, 18,\n",
    "                20, 17, 31, 20, 25, 28, 21, 27, 0, 0, 0]).reshape(7, 4)\n",
    "\n",
    "water_attract = np.array([21, 22, 15, 12, 21, 16,\n",
    "                 19, 15, 22, 24, 19, 23,\n",
    "                 13, 22, 20, 24, 18, 20, 0, 0]).reshape(5, 4)"
   ]
  },
  {
   "cell_type": "code",
   "execution_count": 3,
   "metadata": {},
   "outputs": [
    {
     "data": {
      "image/png": "[encoded data removed]",
      "text/latex": [
       "$$\\left[\\begin{matrix}27 & 20 & 21 & 26\\\\27 & 31 & 24 & 21\\\\20 & 19 & 23 & 24\\\\28 & 19 & 24 & 29\\\\18 & 20 & 17 & 31\\\\20 & 25 & 28 & 21\\\\27 & 0 & 0 & 0\\end{matrix}\\right]$$"
      ],
      "text/plain": [
       "⎡27  20  21  26⎤\n",
       "⎢              ⎥\n",
       "⎢27  31  24  21⎥\n",
       "⎢              ⎥\n",
       "⎢20  19  23  24⎥\n",
       "⎢              ⎥\n",
       "⎢28  19  24  29⎥\n",
       "⎢              ⎥\n",
       "⎢18  20  17  31⎥\n",
       "⎢              ⎥\n",
       "⎢20  25  28  21⎥\n",
       "⎢              ⎥\n",
       "⎣27  0   0   0 ⎦"
      ]
     },
     "execution_count": 3,
     "metadata": {},
     "output_type": "execute_result"
    }
   ],
   "source": [
    "Matrix(beer_attract)"
   ]
  },
  {
   "cell_type": "code",
   "execution_count": 4,
   "metadata": {},
   "outputs": [
    {
     "data": {
      "image/png": "[encoded data removed]",
      "text/latex": [
       "$$\\left[\\begin{matrix}21 & 22 & 15 & 12\\\\21 & 16 & 19 & 15\\\\22 & 24 & 19 & 23\\\\13 & 22 & 20 & 24\\\\18 & 20 & 0 & 0\\end{matrix}\\right]$$"
      ],
      "text/plain": [
       "⎡21  22  15  12⎤\n",
       "⎢              ⎥\n",
       "⎢21  16  19  15⎥\n",
       "⎢              ⎥\n",
       "⎢22  24  19  23⎥\n",
       "⎢              ⎥\n",
       "⎢13  22  20  24⎥\n",
       "⎢              ⎥\n",
       "⎣18  20  0   0 ⎦"
      ]
     },
     "execution_count": 4,
     "metadata": {},
     "output_type": "execute_result"
    }
   ],
   "source": [
    "Matrix(water_attract)"
   ]
  }
 ],
 "metadata": {
  "jupytext": {
   "metadata_filter": {
    "notebook": {
     "additional": "all",
     "excluded": [
      "language_info"
     ]
    }
   }
  },
  "kernelspec": {
   "display_name": "Python 3",
   "language": "python",
   "name": "python3"
  },
  "language_info": {
   "codemirror_mode": {
    "name": "ipython",
    "version": 3
   },
   "file_extension": ".py",
   "mimetype": "text/x-python",
   "name": "python",
   "nbconvert_exporter": "python",
   "pygments_lexer": "ipython3",
   "version": "3.7.3"
  }
 },
 "nbformat": 4,
 "nbformat_minor": 2
}
